{
  "nbformat": 4,
  "nbformat_minor": 0,
  "metadata": {
    "colab": {
      "provenance": []
    },
    "kernelspec": {
      "name": "python3",
      "display_name": "Python 3"
    },
    "language_info": {
      "name": "python"
    }
  },
  "cells": [
    {
      "cell_type": "markdown",
      "source": [
        "# Imports"
      ],
      "metadata": {
        "id": "MUr_832RF835"
      }
    },
    {
      "cell_type": "code",
      "execution_count": 1,
      "metadata": {
        "id": "e5peAaIgFmdb"
      },
      "outputs": [],
      "source": [
        "import sqlite3\n",
        "import pandas as pd\n",
        "import numpy as np\n",
        "import matplotlib.pyplot as plt"
      ]
    },
    {
      "cell_type": "markdown",
      "source": [
        "# Functions"
      ],
      "metadata": {
        "id": "ho8Mc-0WF_Zo"
      }
    },
    {
      "cell_type": "code",
      "source": [
        "def tables(link:str):\n",
        "  file = pd.ExcelFile(link)\n",
        "  sheets = file.sheet_names\n",
        "  table_list = []\n",
        "  for name in sheets:\n",
        "    x = pd.read_excel(link,sheet_name=name)\n",
        "    if 'Unnamed: 0' in x.columns:\n",
        "      x = x.drop('Unnamed: 0',axis=1)\n",
        "    table_list.append(x)\n",
        "  return table_list"
      ],
      "metadata": {
        "id": "5iNZXEtrF1FC"
      },
      "execution_count": 2,
      "outputs": []
    },
    {
      "cell_type": "code",
      "source": [
        "def saving_sql(experiment:str,sheets_names,tables:list,index):\n",
        "  table_name = experiment+f'_{sheets_names[index]}'\n",
        "  table = tables[index]\n",
        "  table.to_sql(table_name,conn,if_exists='replace',index=False)"
      ],
      "metadata": {
        "id": "5pwWq9_jF3YY"
      },
      "execution_count": 3,
      "outputs": []
    },
    {
      "cell_type": "markdown",
      "source": [
        "# Data"
      ],
      "metadata": {
        "id": "N_qI17giGE0w"
      }
    },
    {
      "cell_type": "code",
      "source": [
        "links = [\n",
        "    'https://github.com/Ben-physics-dotcom/Internships/raw/refs/heads/main/GPR2/Data/E1.xlsx',\n",
        "    'https://github.com/Ben-physics-dotcom/Internships/raw/refs/heads/main/GPR2/Data/E3.xlsx',\n",
        "    'https://github.com/Ben-physics-dotcom/Internships/raw/refs/heads/main/GPR2/Data/E4.xlsx',\n",
        "    'https://github.com/Ben-physics-dotcom/Internships/raw/refs/heads/main/GPR2/Data/O10.xlsx',\n",
        "    'https://github.com/Ben-physics-dotcom/Internships/raw/refs/heads/main/GPR2/Data/O3O4.xlsx',\n",
        "    'https://github.com/Ben-physics-dotcom/Internships/raw/refs/heads/main/GPR2/Data/O6.xlsx',\n",
        "    'https://github.com/Ben-physics-dotcom/Internships/raw/refs/heads/main/GPR2/Data/O8.xlsx'\n",
        "]"
      ],
      "metadata": {
        "id": "uXHzuMtBGGTn"
      },
      "execution_count": 4,
      "outputs": []
    },
    {
      "cell_type": "code",
      "source": [
        "experiments = ['E1','E3','E4','O10','O3O4','O6','O8']"
      ],
      "metadata": {
        "id": "HqZAZG4jGGxQ"
      },
      "execution_count": 5,
      "outputs": []
    },
    {
      "cell_type": "code",
      "source": [
        "table_list_gpr2 = []\n",
        "sheet_names = []\n",
        "for i in range(len(links)):\n",
        "  lot = tables(links[i])\n",
        "  x = pd.ExcelFile(links[i])\n",
        "  table_list_gpr2.append(lot)\n",
        "  sheet_names.append(x.sheet_names)"
      ],
      "metadata": {
        "id": "cP45sgbdGGtf"
      },
      "execution_count": 9,
      "outputs": []
    },
    {
      "cell_type": "code",
      "source": [
        "print(len(table_list_gpr2))\n",
        "print(len(sheet_names))"
      ],
      "metadata": {
        "colab": {
          "base_uri": "https://localhost:8080/"
        },
        "id": "TUPbE8JpJ15h",
        "outputId": "3208808e-e864-43e1-e12c-f6c0fddecfb5"
      },
      "execution_count": 10,
      "outputs": [
        {
          "output_type": "stream",
          "name": "stdout",
          "text": [
            "7\n",
            "7\n"
          ]
        }
      ]
    },
    {
      "cell_type": "markdown",
      "source": [
        "# Data Base"
      ],
      "metadata": {
        "id": "FHG6FSyVGHdY"
      }
    },
    {
      "cell_type": "code",
      "source": [
        "conn = sqlite3.connect('GPR2.db')\n",
        "c = conn.cursor()"
      ],
      "metadata": {
        "id": "2MrUQTtqGJzg"
      },
      "execution_count": 13,
      "outputs": []
    },
    {
      "cell_type": "code",
      "source": [
        "for i in range(7):\n",
        "  exp = experiments[i]\n",
        "  sheets = sheet_names[i]\n",
        "  table = table_list_gpr2[i]\n",
        "  for j in range(len(sheets)):\n",
        "    saving_sql(exp,sheets,table,j)"
      ],
      "metadata": {
        "id": "Ml1dY8O6K5qJ"
      },
      "execution_count": 16,
      "outputs": []
    },
    {
      "cell_type": "code",
      "source": [
        "# Query to list all tables in the database\n",
        "cursor = conn.cursor()\n",
        "cursor.execute(\"SELECT name FROM sqlite_master WHERE type='table';\")\n",
        "tables = cursor.fetchall()\n",
        "\n",
        "# Print all table names\n",
        "print(\"Tables in the database:\")\n",
        "for table in tables:\n",
        "    print(table[0])"
      ],
      "metadata": {
        "colab": {
          "base_uri": "https://localhost:8080/"
        },
        "id": "htxPUipGMEPQ",
        "outputId": "516973f8-e90a-49f4-e604-7721cc712008"
      },
      "execution_count": 17,
      "outputs": [
        {
          "output_type": "stream",
          "name": "stdout",
          "text": [
            "Tables in the database:\n",
            "E1_A1\n",
            "E1_A3\n",
            "E3_A1\n",
            "E3_A2\n",
            "E3_A3\n",
            "E4_Aufgabe_1\n",
            "E4_Aufgabe_2\n",
            "E4_Aufgabe_3\n",
            "E4_Aufgabe_5\n",
            "E4_A8\n",
            "E4_A9\n",
            "E4_A10\n",
            "E4_A12\n",
            "O10_Bessel\n",
            "O10_Abbe\n",
            "O3O4_A1\n",
            "O3O4_A2\n",
            "O3O4_A4\n",
            "O3O4_A4-0-Ordnung_Statistik\n",
            "O3O4_A5\n",
            "O6_A1\n",
            "O6_A2\n",
            "O6_Hg-blauer Filter\n",
            "O8_A2\n",
            "O8_A45\n"
          ]
        }
      ]
    },
    {
      "cell_type": "code",
      "source": [
        "conn.close()"
      ],
      "metadata": {
        "id": "11DNsubZMLrZ"
      },
      "execution_count": 18,
      "outputs": []
    }
  ]
}